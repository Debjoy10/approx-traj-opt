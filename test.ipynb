{
 "cells": [
  {
   "cell_type": "code",
   "execution_count": 19,
   "metadata": {},
   "outputs": [],
   "source": [
    "\n",
    "import math\n",
    "import numpy as np\n",
    "from copy import deepcopy"
   ]
  },
  {
   "cell_type": "code",
   "execution_count": 26,
   "metadata": {},
   "outputs": [],
   "source": [
    "\n",
    "class RaceTrajEnv():\n",
    "\n",
    "\n",
    "\n",
    "    def __init__(self, num_of_gates = 10, angle_restriction = math.pi*3/5, \n",
    "                        next_distance_low = 5, next_distance_high = 15, \n",
    "                        look_ahead = 1, look_behind = 1,\n",
    "                        gate_width = 1, gate_height = 0.5,\n",
    "                        angle_dev=0.1):\n",
    "\n",
    "        self.num_of_gates = num_of_gates\n",
    "        self.angle_restriction = angle_restriction\n",
    "        self.next_distance_low = next_distance_low\n",
    "        self.next_distance_high = next_distance_high\n",
    "        self.look_ahead = look_ahead\n",
    "        self.look_behind = look_behind\n",
    "        self.gate_width = gate_width\n",
    "        self.gate_height = gate_height\n",
    "        self.angle_dev = angle_dev\n",
    "\n",
    "# Action space first axis is for inplane movement and second for vertical \n",
    "\n",
    "\n",
    "        self.viewer = None\n",
    "        self.state = None\n",
    "        self.state_i = 0\n",
    "        self.entire_traj = None\n",
    "        self.entire_traj_act = None\n",
    "        self.steps_beyond_done = None\n",
    "\n",
    "\n",
    "    def step(self, action):\n",
    "\n",
    "        self.entire_traj_act[self.state_i] = action\n",
    "        self.state_i += 1\n",
    "        done = self.state_i==len(self.entire_traj)-2\n",
    "\n",
    "        # TODO: Calculate reward by refitting trajectory that satisfies the snap requirement\n",
    "        reward = 1.0\n",
    "        # Would need time based optimization?\n",
    "        \n",
    "        self.state = np.array(self.entire_traj[self.state_i-self.look_behind:self.state_i+self.look_ahead+1])\n",
    "\n",
    "        return np.array(self.state), reward, done, {}\n",
    "\n",
    "    def get_next_pt(self, cpt, ppt):\n",
    "        grad = cpt - ppt\n",
    "        thetad = math.atan2(grad[1], grad[0])\n",
    "        gdp = math.sqrt(grad[0]**2+grad[1]**2)\n",
    "        phid = math.atan2(grad[2], gdp)\n",
    "        thetaf = thetad + np.clip(np.random.standard_normal()*self.angle_dev*self.angle_restriction/2, -self.angle_restriction/2, self.angle_restriction/2)\n",
    "        phif = phid + np.clip(np.random.standard_normal()*self.angle_dev*self.angle_restriction/2, -self.angle_restriction/2, self.angle_restriction/2)\n",
    "        npt = np.array([math.cos(thetaf), math.sin(thetaf), math.tan(phif)])\n",
    "        npt = cpt + npt/np.linalg.norm(npt)*(np.random.uniform(math.sqrt(self.next_distance_low), math.sqrt(self.next_distance_high))**2)\n",
    "        return npt\n",
    "\n",
    "\n",
    "    def reset(self):\n",
    "\n",
    "        self.entire_traj = [np.array([0, -1, 0]), np.array([0, 0, 0])]\n",
    "\n",
    "        for i in range(self.num_of_gates+1):\n",
    "            self.entire_traj.append(self.get_next_pt(self.entire_traj[-1], self.entire_traj[-2]))\n",
    "\n",
    "        self.entire_traj = np.array(self.entire_traj)\n",
    "        self.entire_traj_act = deepcopy(self.entire_traj)\n",
    "\n",
    "        self.state_i = 2\n",
    "        self.state = np.array(self.entire_traj[self.state_i-self.look_behind:self.state_i+self.look_ahead+1])\n",
    "\n",
    "        self.steps_beyond_done = None\n",
    "        \n",
    "        return np.array(self.state)"
   ]
  },
  {
   "cell_type": "code",
   "execution_count": 27,
   "metadata": {},
   "outputs": [],
   "source": [
    "env = RaceTrajEnv()"
   ]
  },
  {
   "cell_type": "code",
   "execution_count": 28,
   "metadata": {
    "tags": []
   },
   "outputs": [
    {
     "data": {
      "text/plain": [
       "array([[ 0.        ,  0.        ,  0.        ],\n",
       "       [-0.64211364,  5.00250132, -0.55891408],\n",
       "       [-3.33150354, 16.23850905, -1.76358475]])"
      ]
     },
     "execution_count": 28,
     "metadata": {},
     "output_type": "execute_result"
    }
   ],
   "source": [
    "env.reset()"
   ]
  },
  {
   "cell_type": "code",
   "execution_count": 29,
   "metadata": {
    "tags": []
   },
   "outputs": [
    {
     "data": {
      "text/plain": [
       "array([[  0.        ,  -1.        ,   0.        ],\n",
       "       [  0.        ,   0.        ,   0.        ],\n",
       "       [ -0.64211364,   5.00250132,  -0.55891408],\n",
       "       [ -3.33150354,  16.23850905,  -1.76358475],\n",
       "       [ -6.98559302,  29.68153331,  -3.46708576],\n",
       "       [ -9.84356731,  42.90126694,  -6.94124628],\n",
       "       [-11.51304279,  48.58023258,  -8.03088097],\n",
       "       [-14.40542896,  58.33948167,  -7.88604932],\n",
       "       [-16.21922458,  68.37314264,  -7.83915805],\n",
       "       [-17.28856767,  75.66642765,  -7.28021501],\n",
       "       [-18.91440875,  82.99210775,  -7.74474225],\n",
       "       [-20.52700488,  88.07285804,  -7.06003134],\n",
       "       [-22.62544654,  93.91466485,  -6.53573441]])"
      ]
     },
     "execution_count": 29,
     "metadata": {},
     "output_type": "execute_result"
    }
   ],
   "source": [
    "env.entire_traj"
   ]
  },
  {
   "cell_type": "code",
   "execution_count": 94,
   "metadata": {},
   "outputs": [],
   "source": [
    "import traj_gen\n",
    "import numpy as np\n",
    "\n",
    "from traj_gen import poly_trajectory as pt\n",
    "\n",
    "import time\n",
    "\n",
    "def get_knots(waypoints, scale = 10):\n",
    "    total_time = 0\n",
    "    for wpa, wpb in zip(waypoints[1:], waypoints[:-1]):\n",
    "        total_time += np.linalg.norm(wpa-wpb)    \n",
    "\n",
    "    knots = np.zeros((len(waypoints)))\n",
    "    knots[0] = 0\n",
    "    for i, (wpa, wpb) in enumerate(zip(waypoints[1:], waypoints[:-1])):\n",
    "        knots[i+1] = knots[i]+np.linalg.norm(wpa-wpb)/total_time\n",
    "    \n",
    "    return (knots*scale).astype(np.float)\n",
    "\n",
    "\n",
    "def get_trajectory_snap(waypoints, tdelta = 0.1, time_between_gates = 2):\n",
    "    dim = 3\n",
    "    knots = get_knots(waypoints, time_between_gates*len(waypoints))\n",
    "    order = 8\n",
    "    optimTarget = 'poly-coeff' #'end-derivative' 'poly-coeff'\n",
    "    maxConti = 4\n",
    "    objWeights = np.array([0, 0, 0, 0, 1])\n",
    "    pTraj = pt.PolyTrajGen(knots, order, optimTarget, dim, maxConti)\n",
    "\n",
    "        # 2. Pin\n",
    "    Xdot = np.array([0, 0, 0])\n",
    "    Xddot = np.array([0, 0, 0])\n",
    "\n",
    "    pin_ = {'t':0, 'd':1, 'X':Xdot,}\n",
    "    pTraj.addPin(pin_)\n",
    "    pin_ = {'t':0, 'd':2, 'X':Xddot,}\n",
    "    pTraj.addPin(pin_)\n",
    "\n",
    "\n",
    "    for i, wp in enumerate(waypoints):\n",
    "\n",
    "        pin_ = {'t':knots[i], 'd':0, 'X':wp[i, :]}\n",
    "        pTraj.addPin(pin_)\n",
    "\n",
    "    # solve\n",
    "    pTraj.setDerivativeObj(objWeights)\n",
    "    pTraj.solve()\n",
    "    rng = np.linspace(0, len(waypoints)*time_between_gates, int((len(waypoints))*time_between_gates//tdelta))\n",
    "    snap = pTraj.eval(rng, 4)\n",
    "    return np.sum(snap)\n",
    "\n",
    "def calc_bonus(waypoints, delta, gate_width = 1, gate_height = 0.5,):\n",
    "    delta[:, 1] = np.clip(delta[:, 1], -gate_height/2, gate_height/2)\n",
    "    delta[:, 0] = np.clip(delta[:, 0], -gate_width/2, gate_width/2)\n",
    "\n",
    "    dvx = np.zeros((waypoints.shape[0], 3))\n",
    "    dvx[1:] = waypoints[1:]-waypoints[:-1]\n",
    "    dvx[0] = waypoints[1]\n",
    "    az1 = np.array([0,0,1])\n",
    "    az0 = np.cross(az1, dvx)\n",
    "    az0 = az0/np.linalg.norm(az0)\n",
    "    az1 = np.array([az1])\n",
    "\n",
    "    waypoints_modif = waypoints.copy() + az1*delta[:, 1:] + az0* delta[:, :1]\n",
    "    print(waypoints)\n",
    "    print((az0* delta[:, :1]).shape)\n",
    "    print(get_trajectory_snap(waypoints))\n",
    "    print(get_trajectory_snap(waypoints_modif))"
   ]
  },
  {
   "cell_type": "code",
   "execution_count": 95,
   "metadata": {},
   "outputs": [],
   "source": [
    "waypoints = env.entire_traj[1:]"
   ]
  },
  {
   "cell_type": "code",
   "execution_count": 96,
   "metadata": {},
   "outputs": [
    {
     "data": {
      "text/plain": [
       "(12, 3)"
      ]
     },
     "execution_count": 96,
     "metadata": {},
     "output_type": "execute_result"
    }
   ],
   "source": [
    "waypoints.shape"
   ]
  },
  {
   "cell_type": "code",
   "execution_count": 97,
   "metadata": {
    "tags": []
   },
   "outputs": [
    {
     "name": "stdout",
     "output_type": "stream",
     "text": [
      "[[  0.           0.           0.        ]\n",
      " [ -0.64211364   5.00250132  -0.55891408]\n",
      " [ -3.33150354  16.23850905  -1.76358475]\n",
      " [ -6.98559302  29.68153331  -3.46708576]\n",
      " [ -9.84356731  42.90126694  -6.94124628]\n",
      " [-11.51304279  48.58023258  -8.03088097]\n",
      " [-14.40542896  58.33948167  -7.88604932]\n",
      " [-16.21922458  68.37314264  -7.83915805]\n",
      " [-17.28856767  75.66642765  -7.28021501]\n",
      " [-18.91440875  82.99210775  -7.74474225]\n",
      " [-20.52700488  88.07285804  -7.06003134]\n",
      " [-22.62544654  93.91466485  -6.53573441]]\n",
      "(12, 3)\n"
     ]
    },
    {
     "ename": "UnboundLocalError",
     "evalue": "local variable 'total_time' referenced before assignment",
     "output_type": "error",
     "traceback": [
      "\u001b[1;31m---------------------------------------------------------------------------\u001b[0m",
      "\u001b[1;31mUnboundLocalError\u001b[0m                         Traceback (most recent call last)",
      "\u001b[1;32m<ipython-input-97-e1513cb0cc27>\u001b[0m in \u001b[0;36m<module>\u001b[1;34m\u001b[0m\n\u001b[1;32m----> 1\u001b[1;33m \u001b[0mcalc_bonus\u001b[0m\u001b[1;33m(\u001b[0m\u001b[0mwaypoints\u001b[0m\u001b[1;33m,\u001b[0m \u001b[0mnp\u001b[0m\u001b[1;33m.\u001b[0m\u001b[0mzeros\u001b[0m\u001b[1;33m(\u001b[0m\u001b[1;33m(\u001b[0m\u001b[0mwaypoints\u001b[0m\u001b[1;33m.\u001b[0m\u001b[0mshape\u001b[0m\u001b[1;33m[\u001b[0m\u001b[1;36m0\u001b[0m\u001b[1;33m]\u001b[0m\u001b[1;33m,\u001b[0m \u001b[1;36m2\u001b[0m\u001b[1;33m)\u001b[0m\u001b[1;33m)\u001b[0m\u001b[1;33m)\u001b[0m\u001b[1;33m\u001b[0m\u001b[1;33m\u001b[0m\u001b[0m\n\u001b[0m",
      "\u001b[1;32m<ipython-input-94-544f6fbd3471>\u001b[0m in \u001b[0;36mcalc_bonus\u001b[1;34m(waypoints, delta, gate_width, gate_height)\u001b[0m\n\u001b[0;32m     64\u001b[0m     \u001b[0mprint\u001b[0m\u001b[1;33m(\u001b[0m\u001b[0mwaypoints\u001b[0m\u001b[1;33m)\u001b[0m\u001b[1;33m\u001b[0m\u001b[1;33m\u001b[0m\u001b[0m\n\u001b[0;32m     65\u001b[0m     \u001b[0mprint\u001b[0m\u001b[1;33m(\u001b[0m\u001b[1;33m(\u001b[0m\u001b[0maz0\u001b[0m\u001b[1;33m*\u001b[0m \u001b[0mdelta\u001b[0m\u001b[1;33m[\u001b[0m\u001b[1;33m:\u001b[0m\u001b[1;33m,\u001b[0m \u001b[1;33m:\u001b[0m\u001b[1;36m1\u001b[0m\u001b[1;33m]\u001b[0m\u001b[1;33m)\u001b[0m\u001b[1;33m.\u001b[0m\u001b[0mshape\u001b[0m\u001b[1;33m)\u001b[0m\u001b[1;33m\u001b[0m\u001b[1;33m\u001b[0m\u001b[0m\n\u001b[1;32m---> 66\u001b[1;33m     \u001b[0mprint\u001b[0m\u001b[1;33m(\u001b[0m\u001b[0mget_trajectory_snap\u001b[0m\u001b[1;33m(\u001b[0m\u001b[0mwaypoints\u001b[0m\u001b[1;33m)\u001b[0m\u001b[1;33m)\u001b[0m\u001b[1;33m\u001b[0m\u001b[1;33m\u001b[0m\u001b[0m\n\u001b[0m\u001b[0;32m     67\u001b[0m     \u001b[0mprint\u001b[0m\u001b[1;33m(\u001b[0m\u001b[0mget_trajectory_snap\u001b[0m\u001b[1;33m(\u001b[0m\u001b[0mwaypoints_modif\u001b[0m\u001b[1;33m)\u001b[0m\u001b[1;33m)\u001b[0m\u001b[1;33m\u001b[0m\u001b[1;33m\u001b[0m\u001b[0m\n",
      "\u001b[1;32m<ipython-input-94-544f6fbd3471>\u001b[0m in \u001b[0;36mget_trajectory_snap\u001b[1;34m(waypoints, tdelta, time_between_gates)\u001b[0m\n\u001b[0;32m     20\u001b[0m \u001b[1;32mdef\u001b[0m \u001b[0mget_trajectory_snap\u001b[0m\u001b[1;33m(\u001b[0m\u001b[0mwaypoints\u001b[0m\u001b[1;33m,\u001b[0m \u001b[0mtdelta\u001b[0m \u001b[1;33m=\u001b[0m \u001b[1;36m0.1\u001b[0m\u001b[1;33m,\u001b[0m \u001b[0mtime_between_gates\u001b[0m \u001b[1;33m=\u001b[0m \u001b[1;36m2\u001b[0m\u001b[1;33m)\u001b[0m\u001b[1;33m:\u001b[0m\u001b[1;33m\u001b[0m\u001b[1;33m\u001b[0m\u001b[0m\n\u001b[0;32m     21\u001b[0m     \u001b[0mdim\u001b[0m \u001b[1;33m=\u001b[0m \u001b[1;36m3\u001b[0m\u001b[1;33m\u001b[0m\u001b[1;33m\u001b[0m\u001b[0m\n\u001b[1;32m---> 22\u001b[1;33m     \u001b[0mknots\u001b[0m \u001b[1;33m=\u001b[0m \u001b[0mget_knots\u001b[0m\u001b[1;33m(\u001b[0m\u001b[0mwaypoints\u001b[0m\u001b[1;33m,\u001b[0m \u001b[0mtime_between_gates\u001b[0m\u001b[1;33m*\u001b[0m\u001b[0mlen\u001b[0m\u001b[1;33m(\u001b[0m\u001b[0mwaypoints\u001b[0m\u001b[1;33m)\u001b[0m\u001b[1;33m)\u001b[0m\u001b[1;33m\u001b[0m\u001b[1;33m\u001b[0m\u001b[0m\n\u001b[0m\u001b[0;32m     23\u001b[0m     \u001b[0morder\u001b[0m \u001b[1;33m=\u001b[0m \u001b[1;36m8\u001b[0m\u001b[1;33m\u001b[0m\u001b[1;33m\u001b[0m\u001b[0m\n\u001b[0;32m     24\u001b[0m     \u001b[0moptimTarget\u001b[0m \u001b[1;33m=\u001b[0m \u001b[1;34m'poly-coeff'\u001b[0m \u001b[1;31m#'end-derivative' 'poly-coeff'\u001b[0m\u001b[1;33m\u001b[0m\u001b[1;33m\u001b[0m\u001b[0m\n",
      "\u001b[1;32m<ipython-input-94-544f6fbd3471>\u001b[0m in \u001b[0;36mget_knots\u001b[1;34m(waypoints, scale)\u001b[0m\n\u001b[0;32m      8\u001b[0m \u001b[1;32mdef\u001b[0m \u001b[0mget_knots\u001b[0m\u001b[1;33m(\u001b[0m\u001b[0mwaypoints\u001b[0m\u001b[1;33m,\u001b[0m \u001b[0mscale\u001b[0m \u001b[1;33m=\u001b[0m \u001b[1;36m10\u001b[0m\u001b[1;33m)\u001b[0m\u001b[1;33m:\u001b[0m\u001b[1;33m\u001b[0m\u001b[1;33m\u001b[0m\u001b[0m\n\u001b[0;32m      9\u001b[0m     \u001b[1;32mfor\u001b[0m \u001b[0mwpa\u001b[0m\u001b[1;33m,\u001b[0m \u001b[0mwpb\u001b[0m \u001b[1;32min\u001b[0m \u001b[0mzip\u001b[0m\u001b[1;33m(\u001b[0m\u001b[0mwaypoints\u001b[0m\u001b[1;33m[\u001b[0m\u001b[1;36m1\u001b[0m\u001b[1;33m:\u001b[0m\u001b[1;33m]\u001b[0m\u001b[1;33m,\u001b[0m \u001b[0mwaypoints\u001b[0m\u001b[1;33m[\u001b[0m\u001b[1;33m:\u001b[0m\u001b[1;33m-\u001b[0m\u001b[1;36m1\u001b[0m\u001b[1;33m]\u001b[0m\u001b[1;33m)\u001b[0m\u001b[1;33m:\u001b[0m\u001b[1;33m\u001b[0m\u001b[1;33m\u001b[0m\u001b[0m\n\u001b[1;32m---> 10\u001b[1;33m         \u001b[0mtotal_time\u001b[0m \u001b[1;33m+=\u001b[0m \u001b[0mnp\u001b[0m\u001b[1;33m.\u001b[0m\u001b[0mlinalg\u001b[0m\u001b[1;33m.\u001b[0m\u001b[0mnorm\u001b[0m\u001b[1;33m(\u001b[0m\u001b[0mwpa\u001b[0m\u001b[1;33m-\u001b[0m\u001b[0mwpb\u001b[0m\u001b[1;33m)\u001b[0m\u001b[1;33m\u001b[0m\u001b[1;33m\u001b[0m\u001b[0m\n\u001b[0m\u001b[0;32m     11\u001b[0m \u001b[1;33m\u001b[0m\u001b[0m\n\u001b[0;32m     12\u001b[0m     \u001b[0mknots\u001b[0m \u001b[1;33m=\u001b[0m \u001b[0mnp\u001b[0m\u001b[1;33m.\u001b[0m\u001b[0mzeros\u001b[0m\u001b[1;33m(\u001b[0m\u001b[1;33m(\u001b[0m\u001b[0mlen\u001b[0m\u001b[1;33m(\u001b[0m\u001b[0mwaypoints\u001b[0m\u001b[1;33m)\u001b[0m\u001b[1;33m)\u001b[0m\u001b[1;33m)\u001b[0m\u001b[1;33m\u001b[0m\u001b[1;33m\u001b[0m\u001b[0m\n",
      "\u001b[1;31mUnboundLocalError\u001b[0m: local variable 'total_time' referenced before assignment"
     ]
    }
   ],
   "source": [
    "calc_bonus(waypoints, np.zeros((waypoints.shape[0], 2)))"
   ]
  },
  {
   "cell_type": "code",
   "execution_count": null,
   "metadata": {},
   "outputs": [],
   "source": []
  }
 ],
 "metadata": {
  "kernelspec": {
   "display_name": "cs224n",
   "language": "python",
   "name": "cs224n"
  },
  "language_info": {
   "codemirror_mode": {
    "name": "ipython",
    "version": 3
   },
   "file_extension": ".py",
   "mimetype": "text/x-python",
   "name": "python",
   "nbconvert_exporter": "python",
   "pygments_lexer": "ipython3",
   "version": "3.7.7"
  }
 },
 "nbformat": 4,
 "nbformat_minor": 2
}
