{
 "metadata": {
  "language_info": {
   "codemirror_mode": {
    "name": "ipython",
    "version": 3
   },
   "file_extension": ".py",
   "mimetype": "text/x-python",
   "name": "python",
   "nbconvert_exporter": "python",
   "pygments_lexer": "ipython3",
   "version": "3.8.5-final"
  },
  "orig_nbformat": 2,
  "kernelspec": {
   "name": "python_defaultSpec_1598014300920",
   "display_name": "Python 3.8.5 64-bit ('traj_opt': conda)"
  }
 },
 "nbformat": 4,
 "nbformat_minor": 2,
 "cells": [
  {
   "cell_type": "code",
   "execution_count": 1,
   "metadata": {},
   "outputs": [],
   "source": [
    "\n",
    "import math\n",
    "import numpy as np\n"
   ]
  },
  {
   "cell_type": "code",
   "execution_count": 21,
   "metadata": {},
   "outputs": [],
   "source": [
    "\n",
    "class RaceTrajEnv():\n",
    "\n",
    "    def __init__(self, num_of_gates = 10, angle_restriction = math.pi*3/5, \n",
    "                        next_distance_low = 5, next_distance_high = 15, \n",
    "                        look_ahead = 1, look_behind = 1,\n",
    "                        gate_width = 1, gate_height = 0.5,\n",
    "                        angle_dev=0.1):\n",
    "\n",
    "        self.num_of_gates = num_of_gates\n",
    "        self.angle_restriction = angle_restriction\n",
    "        self.next_distance_low = next_distance_low\n",
    "        self.next_distance_high = next_distance_high\n",
    "        self.look_ahead = look_ahead\n",
    "        self.look_behind = look_behind\n",
    "        self.gate_width = gate_width\n",
    "        self.gate_height = gate_height\n",
    "        self.angle_dev = angle_dev\n",
    "\n",
    "        self.state = None\n",
    "        self.entire_traj = None\n",
    "\n",
    "    def get_next_pt(self, cpt, ppt):\n",
    "        grad = cpt - ppt\n",
    "        thetad = math.atan2(grad[1], grad[0])\n",
    "        gdp = math.sqrt(grad[0]**2+grad[1]**2)\n",
    "        phid = math.atan2(grad[2], gdp)\n",
    "        print(thetad, phid)\n",
    "        thetaf = thetad + np.clip(np.random.standard_normal()*self.angle_dev*self.angle_restriction/2, -self.angle_restriction/2, self.angle_restriction/2)\n",
    "        phif = phid + np.clip(np.random.standard_normal()*self.angle_dev*self.angle_restriction/2, -self.angle_restriction/2, self.angle_restriction/2)\n",
    "        print(thetaf, phif)\n",
    "        npt = np.array([math.cos(thetaf), math.sin(thetaf), math.tan(phif)])\n",
    "        npt = cpt + npt/np.linalg.norm(npt)*np.random.uniform(math.sqrt(self.next_distance_low), math.sqrt(self.next_distance_high))\n",
    "\n",
    "        return npt\n",
    "    def reset(self):\n",
    "\n",
    "        self.state = self.np_random.uniform(low=-0.05, high=0.05, size=(4,))\n",
    "\n",
    "        self.steps_beyond_done = None\n",
    "        \n",
    "        return np.array(self.state)\n"
   ]
  },
  {
   "cell_type": "code",
   "execution_count": 22,
   "metadata": {},
   "outputs": [],
   "source": [
    "env = RaceTrajEnv()"
   ]
  },
  {
   "cell_type": "code",
   "execution_count": 23,
   "metadata": {
    "tags": []
   },
   "outputs": [
    {
     "output_type": "stream",
     "name": "stdout",
     "text": "1.5707963267948966 0.0\n1.5955303019601428 -0.07383502754661368\n"
    },
    {
     "output_type": "execute_result",
     "data": {
      "text/plain": "array([-0.13097865,  5.29441558, -0.39174506])"
     },
     "metadata": {},
     "execution_count": 23
    }
   ],
   "source": [
    "pt1 = env.get_next_pt(np.array([0, 0, 0]), np.array([0, -1, 0]))\n",
    "pt1"
   ]
  },
  {
   "cell_type": "code",
   "execution_count": 24,
   "metadata": {
    "tags": []
   },
   "outputs": [
    {
     "output_type": "stream",
     "name": "stdout",
     "text": "1.5955303019601428 -0.07383502754661368\n1.4613424803513668 0.10545358741455681\n"
    },
    {
     "output_type": "execute_result",
     "data": {
      "text/plain": "array([ 1.20593089, 17.45996782,  0.90368477])"
     },
     "metadata": {},
     "execution_count": 24
    }
   ],
   "source": [
    "env.get_next_pt(pt1, np.array([0,0,0]))"
   ]
  },
  {
   "cell_type": "code",
   "execution_count": null,
   "metadata": {},
   "outputs": [],
   "source": []
  }
 ]
}