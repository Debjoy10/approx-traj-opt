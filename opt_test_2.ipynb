{
 "cells": [
  {
   "cell_type": "code",
   "execution_count": 1,
   "metadata": {},
   "outputs": [],
   "source": [
    "from envs.race_traj import *\n",
    "from envs.traj_reward import *"
   ]
  },
  {
   "cell_type": "code",
   "execution_count": 2,
   "metadata": {},
   "outputs": [],
   "source": [
    "env = RaceTrajEnv()"
   ]
  },
  {
   "cell_type": "code",
   "execution_count": 3,
   "metadata": {},
   "outputs": [
    {
     "name": "stdout",
     "output_type": "stream",
     "text": [
      "After iter1, snap = 2172.67725102146\n",
      "After iter2, snap = 1896.6735127267675\n",
      "After iter3, snap = 1684.8122575469029\n",
      "After iter4, snap = 1515.912505092268\n",
      "After iter5, snap = 1378.0983708067317\n",
      "After iter6, snap = 1262.8475411041507\n",
      "After iter7, snap = 1165.0928975471445\n",
      "After iter8, snap = 1081.23493519501\n",
      "After iter9, snap = 1008.2832857390956\n",
      "After iter10, snap = 944.2561525105432\n",
      "soving 0th dimension ...\n",
      "success !\n",
      "soving 1th dimension ...\n",
      "success !\n",
      "soving 2th dimension ...\n",
      "success !\n",
      "done\n"
     ]
    },
    {
     "data": {
      "text/plain": [
       "array([[ 0.        ,  0.        ,  0.        ],\n",
       "       [-0.84354555, 10.91713093,  1.50180567],\n",
       "       [-1.04556521, 16.94232786,  1.28500756]])"
      ]
     },
     "execution_count": 3,
     "metadata": {},
     "output_type": "execute_result"
    }
   ],
   "source": [
    "env.reset()"
   ]
  },
  {
   "cell_type": "code",
   "execution_count": 4,
   "metadata": {},
   "outputs": [],
   "source": [
    "waypoints = env.entire_traj"
   ]
  },
  {
   "cell_type": "code",
   "execution_count": 5,
   "metadata": {},
   "outputs": [
    {
     "data": {
      "text/plain": [
       "array([[  0.        ,  -1.        ,   0.        ],\n",
       "       [  0.        ,   0.        ,   0.        ],\n",
       "       [ -0.84354555,  10.91713093,   1.50180567],\n",
       "       [ -1.04556521,  16.94232786,   1.28500756],\n",
       "       [ -1.56961656,  27.29594373,   2.23730199],\n",
       "       [ -1.04168685,  32.51536922,   2.02377526],\n",
       "       [ -1.1982185 ,  47.32851216,   0.31638058],\n",
       "       [ -1.0323418 ,  52.91344806,  -1.6736831 ],\n",
       "       [ -1.68467665,  61.00005734,  -4.62607139],\n",
       "       [ -2.8820545 ,  69.90074092,  -9.04313288],\n",
       "       [ -3.22630487,  75.24830088, -11.55299487],\n",
       "       [ -5.22455841,  84.9105608 , -15.52919493],\n",
       "       [ -6.43266668,  90.25468662, -18.00087387]])"
      ]
     },
     "execution_count": 5,
     "metadata": {},
     "output_type": "execute_result"
    }
   ],
   "source": [
    "waypoints"
   ]
  },
  {
   "cell_type": "code",
   "execution_count": null,
   "metadata": {},
   "outputs": [],
   "source": []
  }
 ],
 "metadata": {
  "kernelspec": {
   "display_name": "cs224n",
   "language": "python",
   "name": "cs224n"
  },
  "language_info": {
   "codemirror_mode": {
    "name": "ipython",
    "version": 3
   },
   "file_extension": ".py",
   "mimetype": "text/x-python",
   "name": "python",
   "nbconvert_exporter": "python",
   "pygments_lexer": "ipython3",
   "version": "3.7.7"
  }
 },
 "nbformat": 4,
 "nbformat_minor": 4
}
